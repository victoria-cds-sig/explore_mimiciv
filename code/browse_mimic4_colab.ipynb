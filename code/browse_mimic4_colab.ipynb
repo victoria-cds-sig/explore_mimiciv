{
 "cells": [
  {
   "cell_type": "markdown",
   "metadata": {
    "id": "BzIjYu6QdQAH"
   },
   "source": [
    "\n",
    "\n",
    "# Exploring MIMIC-IV using Colaboratory and BigQuery\n",
    "\n",
    "- BigQuery needs to be enabled in CoLaboratory. I followed the instructions [here](https://tech.aaronteoh.com/bigquery-colaboratory-basics/) after creating a Google Cloud project that I named `mimic4-bq`. You will need to modify the code to use the project ID you created.\n",
    "- It took me a while to get this right and I didn't take good notes, so if anyone else wants to share what they had to do to get BigQuery enabled please share.\n"
   ]
  },
  {
   "cell_type": "markdown",
   "metadata": {
    "id": "4N5rlHA1uMAZ"
   },
   "source": [
    "# Using `ibis` to connect to MIMIC IV on Google BigQuery\n",
    "\n",
    "Environments in Google Colaboratory are not persistent. If we use any software that is not part of teh Google Python Colaboratory environment, we must install it during each session.\n",
    "\n",
    "We are going to be using Ibis, so this must be installed."
   ]
  },
  {
   "cell_type": "code",
   "execution_count": null,
   "metadata": {
    "id": "3MQLJ1CPuMAd"
   },
   "outputs": [],
   "source": [
    "!pip install ibis-framework[bigquery]"
   ]
  },
  {
   "cell_type": "markdown",
   "metadata": {
    "id": "P3YCCYIxd_No"
   },
   "source": [
    "### Google has a really nice Pandas DataFrame display that we will enable."
   ]
  },
  {
   "cell_type": "code",
   "execution_count": null,
   "metadata": {
    "id": "TpWP8r4Fvkl1"
   },
   "outputs": [],
   "source": [
    "%load_ext google.colab.data_table\n",
    "#%reload_ext google.colab.data_table\n",
    "#%unload_ext google.colab.data_table\n"
   ]
  },
  {
   "cell_type": "markdown",
   "metadata": {
    "id": "L7iV_fC7IM9d"
   },
   "source": []
  },
  {
   "cell_type": "code",
   "execution_count": null,
   "metadata": {
    "id": "TUfEg8mWuMAi"
   },
   "outputs": [],
   "source": [
    "import ibis\n",
    "import os"
   ]
  },
  {
   "cell_type": "code",
   "execution_count": null,
   "metadata": {
    "id": "7huHp-rV2HHN"
   },
   "outputs": [],
   "source": [
    "project_id=\"mimic4-bq\"\n",
    "os.environ[\"GOOGLE_CLOUD_PROJECT\"]=project_id\n",
    "import seaborn as sns"
   ]
  },
  {
   "cell_type": "code",
   "execution_count": null,
   "metadata": {
    "id": "7o5Y5B1NTXEJ"
   },
   "outputs": [],
   "source": [
    "import pandas as pd\n",
    "import ipywidgets as ipw\n",
    "from IPython.display import display, HTML, clear_output\n",
    "import matplotlib.pyplot as plt\n",
    "from ipywidgets.widgets.interaction import show_inline_matplotlib_plots\n",
    "from collections import Counter"
   ]
  },
  {
   "cell_type": "markdown",
   "metadata": {
    "id": "3szvSmTdefJc"
   },
   "source": [
    "The Google display helps with having lots of rows, but not with having lots of columns. This class is a rough attempt to be able to scroll through columns. I've also added on a simple visualization. This needs more work, so be patient with unreadable labels, etc."
   ]
  },
  {
   "cell_type": "markdown",
   "metadata": {
    "id": "Qgek1nb-uMAl"
   },
   "source": [
    "### Authenticate using `google.colab`"
   ]
  },
  {
   "cell_type": "code",
   "execution_count": null,
   "metadata": {
    "id": "E2Wuzo6HuMAl"
   },
   "outputs": [],
   "source": [
    "from google.colab import auth\n",
    "auth.authenticate_user()\n",
    "print('Authenticated')"
   ]
  },
  {
   "cell_type": "code",
   "execution_count": null,
   "metadata": {
    "id": "vOd3VKkLTdJx"
   },
   "outputs": [],
   "source": [
    "class BQBrowser(ipw.VBox):\n",
    "    def __init__(self, pid=\"mimic4-bq\", base_project=\"physionet-data.\", \n",
    "                 db=\"mimic_core\", exclude=\"iii\", *args, **kwargs):\n",
    "        self.pid = pid\n",
    "        self.base_project = base_project\n",
    "        self.current_db = None\n",
    "        self.df = None\n",
    "        print(\"This will take a bit of time...\")\n",
    "        conn = ibis.bigquery.connect(\n",
    "                        project_id=pid,\n",
    "                        dataset_id=base_project+db)\n",
    "        self.dbs = [d for d in conn.list_databases() if exclude not in d and \"mimic\" in d]\n",
    "        self.dbs.sort()\n",
    "        self.info = {}\n",
    "        for d in self.dbs:\n",
    "          print(\"processing database %s\"%d)\n",
    "          c = ibis.bigquery.connect(\n",
    "              project_id=pid,\n",
    "              dataset_id=base_project+d)\n",
    "          tables = c.list_tables()\n",
    "          tmp = {t:c.table(t).count().execute() for t in tables}\n",
    "          self.info[d] = tmp\n",
    "        clear_output()\n",
    "        print(\"Completed\")\n",
    "\n",
    "        self.sdbs = ipw.Dropdown(options=[None]+self.dbs[:], value=None, description=\"Select DB\")\n",
    "        self.sdbs.observe(self.set_db, \"value\")\n",
    "\n",
    "        self.stable = ipw.Dropdown(description=\"Select Table\")\n",
    "        self.stable.observe(self.set_table, \"value\")\n",
    "        self.offset = ipw.IntSlider(description=\"offset\", step=10000)\n",
    "        self.offset.observe(self.update_offset, \"value\")\n",
    "    \n",
    "        self.out = ipw.Output()\n",
    "        children = kwargs.get(\"children\", [])\n",
    "\n",
    "        self.graph_type = ipw.Dropdown(options=[None, \"describe\", \"categorical\", \"numeric\"], value=None, description=\"Viz Type\")\n",
    "        self.kind = ipw.Dropdown(options=[\"count\", \"swarm\", \"box\", \"boxen\", \"violin\", \"bar\", \"point\"], value=\"count\")\n",
    "        opts = [None]\n",
    "        self.xsel = ipw.Dropdown(options=opts, value=None, description=\"x\")\n",
    "        self.ysel = ipw.Dropdown(options=opts, value=None, description=\"y\")\n",
    "        self.hsel = ipw.Dropdown(options=opts, value=None, description=\"hue\")\n",
    "        self.rsel = ipw.Dropdown(options=opts, value=None, description=\"row var\")\n",
    "        self.csel = ipw.Dropdown(options=opts, value=None, description=\"col var\")\n",
    "\n",
    "        self.graph_type.observe(self.disp_plot, \"value\")\n",
    "        self.kind.observe(self.disp_plot, \"value\")\n",
    "        self.xsel.observe(self.disp_plot, \"value\")\n",
    "        self.ysel.observe(self.disp_plot, \"value\")\n",
    "        self.hsel.observe(self.disp_plot, \"value\")\n",
    "        self.rsel.observe(self.disp_plot, \"value\")\n",
    "        self.csel.observe(self.disp_plot, \"value\")\n",
    "        \n",
    "\n",
    "        self.plot_out = ipw.Output()\n",
    "        \n",
    "        tmp = ipw.HBox([self.graph_type, self.kind, ipw.VBox([self.xsel, self.ysel]), ipw.VBox([self.hsel, self.rsel, self.csel])])\n",
    "\n",
    "        children= [ipw.HBox([self.sdbs, self.stable, self.offset]), self.out, tmp, self.plot_out] + children\n",
    "\n",
    "\n",
    "        super(BQBrowser, self).__init__(children=children)\n",
    "        self.disp_df()\n",
    "        self.disp_plot()\n",
    "\n",
    "    def set_db(self, *args):\n",
    "      if self.sdbs.value == None:\n",
    "        return \n",
    "      self.current_db = self.sdbs.value\n",
    "      self.conn = ibis.bigquery.connect(\n",
    "              project_id=self.pid,\n",
    "              dataset_id=self.base_project+self.current_db)\n",
    "      opts = [None]+list(self.conn.list_tables())\n",
    "      self.stable.options = opts\n",
    "      self.stable.value = None\n",
    "\n",
    "    def set_table(self, *args):\n",
    "      if self.stable.value == None:\n",
    "        return\n",
    "      tmp = self.info[self.current_db][self.stable.value]\n",
    "      self.offset.max=tmp\n",
    "      self.offset.value=0\n",
    "      self.df = self.conn.table(self.stable.value).limit(10000, offset=self.offset.value).execute()\n",
    "      opts = [None]+list(self.df.columns)\n",
    "      self.xsel.options = opts\n",
    "      self.ysel.options = opts\n",
    "      self.hsel.options = opts\n",
    "      self.rsel.options = opts\n",
    "      self.csel.options = opts\n",
    "\n",
    "      self.xsel.value = None\n",
    "      self.ysel.value = None\n",
    "      self.hsel.value = None\n",
    "      self.rsel.value = None\n",
    "      self.csel.value = None\n",
    "      self.disp()\n",
    "\n",
    "    def update_offset(self, *args):\n",
    "      self.df = self.conn.table(self.stable.value).limit(10000, offset=self.offset.value).execute()\n",
    "      self.disp()\n",
    "\n",
    "    def disp_df(self, *args):\n",
    "        self.out.clear_output()\n",
    "        with self.out:\n",
    "            display(self.df)\n",
    "\n",
    "    def disp_plot(self, *args):\n",
    "\n",
    "        self.plot_out.clear_output()\n",
    "        if self.graph_type.value == None:\n",
    "          return\n",
    "        with self.plot_out:\n",
    "            if self.graph_type.value == \"describe\":\n",
    "              display(self.df.describe())\n",
    "            else:\n",
    "              if self.graph_type.value == 'categorical':\n",
    "                g = sns.catplot(data=self.df, kind=self.kind.value, \n",
    "                                x=self.xsel.value,\n",
    "                                y=self.ysel.value, row=self.rsel.value, \n",
    "                                col=self.csel.value,\n",
    "                                hue=self.hsel.value)\n",
    "                g.set_xticklabels(rotation=45)\n",
    "                #)\n",
    "              else:\n",
    "                g = sns.displot(self.df, x=self.xsel.value, hue=self.hsel.value)\n",
    "              \n",
    "              show_inline_matplotlib_plots()\n",
    "            \n",
    "    def disp(self, *args):\n",
    "      self.disp_df(args)\n",
    "      self.disp_plot(args)\n"
   ]
  },
  {
   "cell_type": "code",
   "execution_count": null,
   "metadata": {
    "id": "-enEa644WsUU"
   },
   "outputs": [],
   "source": [
    "browser = BQBrowser()\n"
   ]
  },
  {
   "cell_type": "code",
   "execution_count": null,
   "metadata": {
    "id": "vlvNIYClSHLf"
   },
   "outputs": [],
   "source": [
    "browser"
   ]
  },
  {
   "cell_type": "code",
   "execution_count": null,
   "metadata": {
    "id": "ba0djGDzuMBH"
   },
   "outputs": [],
   "source": []
  }
 ],
 "metadata": {
  "colab": {
   "collapsed_sections": [],
   "name": "browse_mimic4.ipynb",
   "private_outputs": true,
   "provenance": []
  },
  "kernelspec": {
   "display_name": "Python 3",
   "name": "python3"
  }
 },
 "nbformat": 4,
 "nbformat_minor": 0
}
