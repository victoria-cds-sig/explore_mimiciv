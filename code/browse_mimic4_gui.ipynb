{
 "cells": [
  {
   "cell_type": "markdown",
   "metadata": {
    "id": "BzIjYu6QdQAH"
   },
   "source": [
    "\n",
    "\n",
    "# Exploring MIMIC-IV using Colaboratory and BigQuery\n",
    "\n",
    "- BigQuery needs to be enabled in CoLaboratory. I followed the instructions [here](https://tech.aaronteoh.com/bigquery-colaboratory-basics/) after creating a Google Cloud project that I named `mimic4-bq`. You will need to modify the code to use the project ID you created.\n",
    "- It took me a while to get this right and I didn't take good notes, so if anyone else wants to share what they had to do to get BigQuery enabled please share.\n"
   ]
  },
  {
   "cell_type": "markdown",
   "metadata": {
    "id": "4N5rlHA1uMAZ"
   },
   "source": [
    "# Using `ibis` to connect to MIMIC IV on Google BigQuery\n",
    "\n",
    "Environments in Google Colaboratory are not persistent. If we use any software that is not part of teh Google Python Colaboratory environment, we must install it during each session.\n",
    "\n",
    "We are going to be using Ibis, so this must be installed."
   ]
  },
  {
   "cell_type": "markdown",
   "metadata": {
    "id": "L7iV_fC7IM9d"
   },
   "source": []
  },
  {
   "cell_type": "code",
   "execution_count": null,
   "metadata": {
    "id": "7huHp-rV2HHN"
   },
   "outputs": [],
   "source": [
    "import bqutils.gui as gui"
   ]
  },
  {
   "cell_type": "code",
   "execution_count": null,
   "metadata": {
    "id": "-enEa644WsUU"
   },
   "outputs": [],
   "source": [
    "browser = gui.BQBrowser()\n"
   ]
  },
  {
   "cell_type": "code",
   "execution_count": null,
   "metadata": {},
   "outputs": [],
   "source": [
    "browser"
   ]
  },
  {
   "cell_type": "code",
   "execution_count": null,
   "metadata": {},
   "outputs": [],
   "source": [
    "browser.df != None"
   ]
  },
  {
   "cell_type": "code",
   "execution_count": null,
   "metadata": {},
   "outputs": [],
   "source": []
  }
 ],
 "metadata": {
  "colab": {
   "collapsed_sections": [],
   "name": "browse_mimic4.ipynb",
   "private_outputs": true,
   "provenance": []
  },
  "kernelspec": {
   "display_name": "Python (mimic-iv)",
   "language": "python",
   "name": "mimic_google"
  },
  "language_info": {
   "codemirror_mode": {
    "name": "ipython",
    "version": 3
   },
   "file_extension": ".py",
   "mimetype": "text/x-python",
   "name": "python",
   "nbconvert_exporter": "python",
   "pygments_lexer": "ipython3",
   "version": "3.7.8"
  }
 },
 "nbformat": 4,
 "nbformat_minor": 1
}
