{
 "cells": [
  {
   "cell_type": "markdown",
   "metadata": {},
   "source": [
    "# Image Data in DICOM\n",
    "\n",
    "In the previous notebook, we explored the DICOM dictionary and the metadata that defines the image content and context. In this notebook we will explore the nature of the pixel/voxel data."
   ]
  },
  {
   "cell_type": "markdown",
   "metadata": {},
   "source": [
    "The basic piece of an image is referred to as a **pixel** for \"picture element.\" In medical imaging, we are often working with 3D images of a patient so instead of a pixel we will say **voxel** for \"volume element.\"\n",
    "\n",
    "Each pixel or voxel consists of one or more numeric value. In a typical color photograph you would have three numeric values representing the amount of **R**ed, **G**reen, and **B**lue (RGB) at the pixel. A standard MRI or CT image, like those shown above, have a single vaue at each voxel, as do typical X-ray and ultrasound (US) images. However, you can have radiological images with more than one value at each pixel. This is the case with diffusion tensor imaging (DTI) like the image below.\n",
    "\n",
    "<a title=\"Mim.cis / CC BY-SA (https://creativecommons.org/licenses/by-sa/4.0)\" href=\"https://commons.wikimedia.org/wiki/File:Dti-MRI-brain-section.png\"><img width=\"256\" alt=\"Dti-MRI-brain-section\" src=\"https://upload.wikimedia.org/wikipedia/commons/thumb/2/2c/Dti-MRI-brain-section.png/256px-Dti-MRI-brain-section.png\"></a>"
   ]
  },
  {
   "cell_type": "markdown",
   "metadata": {},
   "source": [
    "## What do the numeric values mean?\n",
    "\n",
    "The meaning of of the numeric values in a pixel or voxel depends on the imaging modality modality used. In general the voxel values don't have an intrinsic (absolute) value. Rather they are relative to each other. A bright voxel in a particular image has a higher value than a darker voxel in the same image. But in general we can't compare the numeric values between two images. CT is an exception to this that we will address later.\n",
    "\n",
    "### Physical processes generating images\n",
    "\n",
    "X-ray images depict the amount X-rays are attenuated by your body. Dense materials like your bones attenuate X-rays more than say the air in your lungs. So in an X-ray image, bones appear bright and lungs appear dark. (This is the inverse of the image detection process.)\n",
    "\n",
    "Ultrasound depicts echos of sound waves within your body. The brighter the voxel the stronger the echo. This occurs at boundaries between different tissue types, for example between water and muscle.\n",
    "\n",
    "The voxel values in magnetic resonance imaging (MRI) are determined by complex physical processes, but you can think of them as depicting various aspects of the local chemical environment of the water (usually) in your body.\n",
    "\n",
    "Nuclear medicine like positron emission tomography (PET) or single-photon emission computed tomography (SPECT) measure the amount of radioactivity from tracers that are injected into your body.\n",
    "\n",
    "Computed tomography uses X-rays and so is measuring X-ray attenuation, but emits and detects the x-rays at multiple angles around your body and then uses mathematics to reconstruct what the plane/slice (Greek *tomo*) that all the X-rays passed through.\n",
    "\n",
    "In general you can assume that pixel/voxel numeric values in a medical image have meaning only relative to other pixel/voxel values within the same image. CT is an exception and we will discuss this next.\n",
    "\n",
    "### Meaning of CT voxel values\n",
    "\n",
    "The numeric value at each voxel in a CT image is expressed in terms of [Hounsfield Units (HU)]()"
   ]
  },
  {
   "cell_type": "markdown",
   "metadata": {},
   "source": [
    "\n",
    "\n",
    "## [DICOM Pixel/Voxel Data](http://dicom.nema.org/medical/dicom/current/output/chtml/part03/sect_C.7.6.3.html#sect_C.7.6.3.1.4)\n",
    "\n",
    "The Orthanc (a popular open-source package for working with DICOM images) developers provide [this](https://book.orthanc-server.com/dicom-guide.html#pixel-data) description of how the image pixels/voxels are represented in DICOM. Here is an excerpt: \n",
    "\n",
    "<blockquote>\n",
    "<div class=\"section\" id=\"pixel-data\">\n",
    "<span id=\"dicom-pixel-data\"></span><h3><a class=\"toc-backref\" href=\"#id6\">Pixel data</a><a class=\"headerlink\" href=\"#pixel-data\" title=\"Permalink to this headline\">¶</a></h3>\n",
    "<p>The image itself is associated with the DICOM tag <code class=\"docutils literal\"><span class=\"pre\">PixelData</span> <span class=\"pre\">(0x7fe0,</span>\n",
    "<span class=\"pre\">0x0010)</span></code>. The content of image can be compressed using many image\n",
    "formats, such as JPEG, <a class=\"reference external\" href=\"https://en.wikipedia.org/wiki/Lossless_JPEG\">Lossless JPEG</a> or <a class=\"reference external\" href=\"https://en.wikipedia.org/wiki/JPEG_2000\">JPEG 2000</a>. Obviously,\n",
    "non-destructive (lossless) compression should always be favored to\n",
    "avoid any loss of medical information. Note that a DICOM file can also\n",
    "act as a wrapper around a video encoded using <a class=\"reference external\" href=\"https://en.wikipedia.org/wiki/MPEG-2\">MPEG-2</a> or <a class=\"reference external\" href=\"https://en.wikipedia.org/wiki/H.264/MPEG-4_AVC\">H.264</a>.</p>\n",
    "<p>The image compression algorithm can be identified by inspecting the\n",
    "<strong>transfer syntax</strong> that is associated with the DICOM file in its\n",
    "header.</p>\n",
    "<p>In practice, few imaging devices in hospitals (besides the <a class=\"reference external\" href=\"https://en.wikipedia.org/wiki/Picture_archiving_and_communication_system\">PACS</a>\n",
    "itself) support image compression. As a consequence, to ensure best\n",
    "portability, the pixel data of most DICOM files circulating in\n",
    "hospitals is <strong>uncompressed</strong>. In other words, the image is encoded as\n",
    "a raw buffer, with a given width, height, pixel type (integer or\n",
    "float), <a class=\"reference external\" href=\"https://en.wikipedia.org/wiki/Color_depth\">color depth</a>\n",
    "(most often 8, 10, 12 bpp - <em>bits per pixel</em>) and photometric\n",
    "interpretation (most often grayscale or RGB). The transfer syntax that\n",
    "is associated with such uncompressed images can either be <a class=\"reference external\" href=\"https://fr.wikipedia.org/wiki/Endianness\">little\n",
    "endian</a> (the most common\n",
    "case) or big endian.</p>\n",
    "<p>A DICOM image can be <strong>multi-frame</strong>, meaning that it encodes an array\n",
    "of different image frames. This is for instance used to encode\n",
    "uncompressed video sequences, that are often referred to as <strong>cine</strong>\n",
    "or <strong>2D+t</strong> images (e.g. for <a class=\"reference external\" href=\"https://en.wikipedia.org/wiki/Medical_ultrasound\">ultrasound imaging</a>).</p>\n",
    "    </blockquote>\n",
    "    \n",
    "    \n"
   ]
  },
  {
   "cell_type": "markdown",
   "metadata": {},
   "source": [
    "## Exploring DICOM Pixel Data\n",
    "\n",
    "In the cells below you can do some basic exploration of medical images as stored in DICOM images.\n",
    "\n",
    "### Window and Level Settings\n",
    "\n",
    "Computer display typically have 8 bits of display resolution (per color channel for 24 bits per pixel). This means that there are 256 distinct gray values that can be displayed. However, as you will see. The medical images have ranges (from minimum to maximum values) that typically far exceed 256. This requires that the image values be mapped to 0-255. The processing of doing this is through a window-level scaling.\n",
    "\n",
    "![window-level](https://blogs.mathworks.com/images/steve/39/windowlevel.png)\n",
    "**Mathworks.com**\n",
    "\n",
    "The window and level values that are selected to display an image have huge effects on what information is displayed. If you are interested, hered is a video about window-level scaling in Radiology.\n",
    "\n"
   ]
  },
  {
   "cell_type": "code",
   "execution_count": null,
   "metadata": {},
   "outputs": [],
   "source": [
    "# uncomment if you need to install dminteract\n",
    "#!python -m pip install -U git+https://github.com/chapmanbe/dminteract#egg=dminteract"
   ]
  },
  {
   "cell_type": "code",
   "execution_count": null,
   "metadata": {},
   "outputs": [],
   "source": [
    "from IPython.display import YouTubeVideo\n",
    "YouTubeVideo(\"KZld-5W99cI\")"
   ]
  },
  {
   "cell_type": "markdown",
   "metadata": {},
   "source": [
    "### A Few More Points\n",
    "\n",
    "* Image orientation in DICOM is complex and this naive visualization doesn't always correctly orient the images.\n",
    "* See if you can figure out what pixel values are used in CT images for regions where an actual image value is not computed.\n",
    "\n",
    "* In the histogram you can filter what pixel values are used in the computation by adjusting the upper and lower values on the \"win\" slider. To get more precise control, you can type in the numbers rather than moving the slider.\n",
    "\n",
    "* On the image viewer you can change the window and level values with the \"w\" and \"l\" sliders. The range for theses sliders is computed over all the images, so it is less than ideal for any given image. "
   ]
  },
  {
   "cell_type": "code",
   "execution_count": null,
   "metadata": {},
   "outputs": [],
   "source": [
    "from dminteract.modules.m4c import *\n",
    "from ipywidgets import interact, fixed\n",
    "import ipywidgets as widgets\n",
    "import warnings\n",
    "warnings.filterwarnings('ignore')\n",
    "#alt.renderers.enable('notebook')\n",
    "alt.renderers.enable('default')\n",
    "from IPython.display import display, clear_output\n",
    "import os\n",
    "DATADIR = os.path.join(\"..\", \"DATA\")"
   ]
  },
  {
   "cell_type": "markdown",
   "metadata": {},
   "source": [
    "### Read in DICOM images and compute basic statistics"
   ]
  },
  {
   "cell_type": "code",
   "execution_count": null,
   "metadata": {},
   "outputs": [],
   "source": [
    "imgs = {i:pydicom.dcmread(os.path.join(DATADIR,i)) for i in [\"I1.dcm\",\"I2.dcm\",\"I3.dcm\",\"I4.dcm\"]}\n",
    "img_stats = {i:(lambda x:(np.min(x),np.max(x)))(imgs[i].pixel_array) for i in imgs}\n",
    "\n",
    "allmin = min([v[0] for v in img_stats.values()])\n",
    "allmax = max([v[1] for v in img_stats.values()])\n",
    "print(allmin, allmax)\n",
    "\n"
   ]
  },
  {
   "cell_type": "code",
   "execution_count": null,
   "metadata": {},
   "outputs": [],
   "source": [
    "b = get_examine_dicom_widget(imgs, allmin, allmax)\n",
    "clear_output()"
   ]
  },
  {
   "cell_type": "code",
   "execution_count": null,
   "metadata": {},
   "outputs": [],
   "source": [
    "display(b)"
   ]
  },
  {
   "cell_type": "code",
   "execution_count": null,
   "metadata": {},
   "outputs": [],
   "source": []
  }
 ],
 "metadata": {
  "kernelspec": {
   "display_name": "Python 3",
   "language": "python",
   "name": "python3"
  },
  "language_info": {
   "codemirror_mode": {
    "name": "ipython",
    "version": 3
   },
   "file_extension": ".py",
   "mimetype": "text/x-python",
   "name": "python",
   "nbconvert_exporter": "python",
   "pygments_lexer": "ipython3",
   "version": "3.7.8"
  }
 },
 "nbformat": 4,
 "nbformat_minor": 4
}
