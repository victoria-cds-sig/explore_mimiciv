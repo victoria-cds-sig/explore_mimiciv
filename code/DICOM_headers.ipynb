{
 "cells": [
  {
   "cell_type": "markdown",
   "metadata": {},
   "source": [
    "# Dictionaries and [DICOM](http://dicom.nema.org/standard.html) Headers\n",
    "\n",
    "DICOM (Digital Imaging and Communications in Medicine) is a standard dating back to the 1980s for defining how medical images are stored, displayed, and transmitted.\n",
    "\n",
    "DICOM images contain both header information that describes information about the patient, the medical context around the acquisition of the image, and the physical processes used to generate the image and pixel information. As we will work with them via [PyDICOM](https://pydicom.readthedocs.io/en/stable/), the pixel information will be accessible as a [numpy](http://www.numpy.org/) array and the header information will be stored in a [Python dictionary](https://docs.python.org/3.5/tutorial/datastructures.html#dictionaries). "
   ]
  },
  {
   "cell_type": "code",
   "execution_count": null,
   "metadata": {},
   "outputs": [],
   "source": [
    "%matplotlib inline"
   ]
  },
  {
   "cell_type": "code",
   "execution_count": null,
   "metadata": {},
   "outputs": [],
   "source": [
    "import pydicom as dicom\n",
    "import os\n",
    "import matplotlib.pyplot as plt\n",
    "import skimage.io as io"
   ]
  },
  {
   "cell_type": "code",
   "execution_count": null,
   "metadata": {},
   "outputs": [],
   "source": [
    "DATADIR = os.path.join(\"..\", \"DATA\")\n",
    "os.path.exists(DATADIR)"
   ]
  },
  {
   "cell_type": "code",
   "execution_count": null,
   "metadata": {},
   "outputs": [],
   "source": [
    "img = dicom.read_file(os.path.join(DATADIR,\"IM-0124-0094.dcm\"))"
   ]
  },
  {
   "cell_type": "markdown",
   "metadata": {},
   "source": [
    "The pixel values of the image are available in two forms. The \"raw\" pixel values as read in from the file are stored as [bytes](https://docs.python.org/3/library/stdtypes.html#binaryseq) in the attribute \"``PixelData``\" attribute. pyDICOM converts these bytes into a 16 bit signed integer numpy array and stores this in the \"``pixel_array``\" attribute. We can view this array with either matplotlib or skimage."
   ]
  },
  {
   "cell_type": "code",
   "execution_count": null,
   "metadata": {},
   "outputs": [],
   "source": [
    "\n",
    "io.imshow(img.pixel_array, cmap='gray')"
   ]
  },
  {
   "cell_type": "markdown",
   "metadata": {},
   "source": [
    "PyDICOM will put the header information into a dictionary-like structure."
   ]
  },
  {
   "cell_type": "code",
   "execution_count": null,
   "metadata": {},
   "outputs": [],
   "source": [
    "isinstance(img,dict),type(img)"
   ]
  },
  {
   "cell_type": "markdown",
   "metadata": {},
   "source": [
    "Since the dicom object is a kind of dictionary it has key value pairs."
   ]
  },
  {
   "cell_type": "code",
   "execution_count": null,
   "metadata": {},
   "outputs": [],
   "source": [
    "list(img.items())[0:5]"
   ]
  },
  {
   "cell_type": "markdown",
   "metadata": {},
   "source": [
    "The keys are a pair of octal-encoded integers. We can type them as either octal integers or strings."
   ]
  },
  {
   "cell_type": "code",
   "execution_count": null,
   "metadata": {},
   "outputs": [],
   "source": [
    "print(img[(0x0032,0x4000)])\n",
    "print(img[(\"0032\",\"4000\")])"
   ]
  },
  {
   "cell_type": "markdown",
   "metadata": {},
   "source": [
    "If we are not familiar with the DICOM dictionary, pyDICOM provides some tools for working with the metadata. For our non-empty keys, pyDICOM creates matching attributes for each key. We can discover thee with the ``dir`` method.\n",
    "\n",
    "We can use the ``dir`` method to return. We can use ``dir`` to return all the key attributes, or we can return all the attributes that match a pattern."
   ]
  },
  {
   "cell_type": "code",
   "execution_count": null,
   "metadata": {},
   "outputs": [],
   "source": [
    "img.dir()[:10], img.dir(\"Pixel\")"
   ]
  },
  {
   "cell_type": "code",
   "execution_count": null,
   "metadata": {},
   "outputs": [],
   "source": [
    "keys = list(img.keys())\n",
    "k = keys[0]\n",
    "print(type(k))\n",
    "import numbers\n",
    "isinstance(k,numbers.Complex)\n"
   ]
  },
  {
   "cell_type": "markdown",
   "metadata": {},
   "source": [
    "### We essentially end up with three ways of accessing the values of the DICOM header:\n",
    "\n",
    "1. Using the generated attribute (e.g. ``img.SliceThickness``)\n",
    "1. Using the data_element method\n",
    "1. Using the key.\n",
    "\n",
    "In the first case we access the value directly. For the second two we get a data structure which includes the name of the element, the data type of the value, and the value."
   ]
  },
  {
   "cell_type": "code",
   "execution_count": null,
   "metadata": {},
   "outputs": [],
   "source": [
    "print(img.SliceThickness) \n",
    "print(img.data_element(\"SliceThickness\"))\n",
    "print(img[(0x0018,0x0050)])"
   ]
  },
  {
   "cell_type": "code",
   "execution_count": null,
   "metadata": {},
   "outputs": [],
   "source": [
    "tmp=img.data_element(\"PatientsName\")"
   ]
  },
  {
   "cell_type": "code",
   "execution_count": null,
   "metadata": {},
   "outputs": [],
   "source": [
    "name_tags = img.dir(\"name\")\n",
    "for n in name_tags:\n",
    "    print(img.data_element(n))"
   ]
  },
  {
   "cell_type": "code",
   "execution_count": null,
   "metadata": {},
   "outputs": [],
   "source": [
    "img[(\"0010\",\"0010\")].value = \"Anonymous\""
   ]
  },
  {
   "cell_type": "code",
   "execution_count": null,
   "metadata": {},
   "outputs": [],
   "source": [
    "img[(\"0010\",\"0010\")].value"
   ]
  },
  {
   "cell_type": "code",
   "execution_count": null,
   "metadata": {},
   "outputs": [],
   "source": [
    "img.dir(\"Pixel\")\n",
    "img.data_element(\"PixelSpacing\")"
   ]
  },
  {
   "cell_type": "code",
   "execution_count": null,
   "metadata": {},
   "outputs": [],
   "source": []
  },
  {
   "cell_type": "code",
   "execution_count": null,
   "metadata": {},
   "outputs": [],
   "source": []
  }
 ],
 "metadata": {
  "kernelspec": {
   "display_name": "Python 3",
   "language": "python",
   "name": "python3"
  },
  "language_info": {
   "codemirror_mode": {
    "name": "ipython",
    "version": 3
   },
   "file_extension": ".py",
   "mimetype": "text/x-python",
   "name": "python",
   "nbconvert_exporter": "python",
   "pygments_lexer": "ipython3",
   "version": "3.7.8"
  }
 },
 "nbformat": 4,
 "nbformat_minor": 1
}
